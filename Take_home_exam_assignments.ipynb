{
  "nbformat": 4,
  "nbformat_minor": 0,
  "metadata": {
    "colab": {
      "provenance": [],
      "authorship_tag": "ABX9TyM5geIqWwToPo/5Futvz2nJ",
      "include_colab_link": true
    },
    "kernelspec": {
      "name": "python3",
      "display_name": "Python 3"
    },
    "language_info": {
      "name": "python"
    }
  },
  "cells": [
    {
      "cell_type": "markdown",
      "metadata": {
        "id": "view-in-github",
        "colab_type": "text"
      },
      "source": [
        "<a href=\"https://colab.research.google.com/github/Maziger/master-generative-ai-with-llm/blob/main/Take_home_exam_assignments.ipynb\" target=\"_parent\"><img src=\"https://colab.research.google.com/assets/colab-badge.svg\" alt=\"Open In Colab\"/></a>"
      ]
    },
    {
      "cell_type": "markdown",
      "source": [
        "# Assignment 1\n",
        "Follow the classification example in Chapter 6 in Hands-On Generative AI with Transformers and Diffusion Models and extend it in the following ways:"
      ],
      "metadata": {
        "id": "gnWpuwHGfFZy"
      }
    },
    {
      "cell_type": "markdown",
      "source": [
        "## 1. Perform an error analysis based on the fine-tuned DestilBert model on the AG News dataset."
      ],
      "metadata": {
        "id": "uK1oPvDKfO4w"
      }
    },
    {
      "cell_type": "markdown",
      "source": [
        "## 2. Fine-tune a ModernBert model (answerdotai/ModernBERT-base) in a similar fashion as DestilBert was fine-tuned in the chapter."
      ],
      "metadata": {
        "id": "M2LZ1BVIfWt4"
      }
    },
    {
      "cell_type": "markdown",
      "source": [
        "## 3. Compare the test set performance of the two fine-tuned models."
      ],
      "metadata": {
        "id": "Qfu3xV5wfYk_"
      }
    },
    {
      "cell_type": "markdown",
      "source": [
        "## 4. Perform an error analysis on the AG News based on the fine-tuned ModernBert and compare it to DestilBert."
      ],
      "metadata": {
        "id": "HPwB-wnzfarb"
      }
    },
    {
      "cell_type": "markdown",
      "source": [
        "# Assignment 2"
      ],
      "metadata": {
        "id": "pHK5VVuEfLOs"
      }
    }
  ]
}